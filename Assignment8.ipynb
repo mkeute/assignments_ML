{
 "cells": [
  {
   "cell_type": "markdown",
   "metadata": {
    "nbgrader": {
     "grade": false,
     "grade_id": "cell-96d2211a5a01c5d4",
     "locked": true,
     "schema_version": 3,
     "solution": false,
     "task": false
    }
   },
   "source": [
    "# Assignment 8\n",
    "## Due June 20th at 12:00\n",
    "\n",
    "Please note: \n",
    "\n",
    "- Read the instructions in the exercise PDF and in this notebook carefully.\n",
    "- Add your solutions *only* at `YOUR CODE HERE`/`YOUR ANSWER HERE` and remove the corresponding `raise NotImplementedError()`.\n",
    "- Do not chance the provided code and text, if not stated.\n",
    "- Do not *add* or *delete* cells.\n",
    "- Do not `import` additional functionality. \n",
    "- Before submitting: Please make sure, that your notebook can be executed from top to bottom `Menu -> Kernel -> Restart & Run all`. "
   ]
  },
  {
   "cell_type": "code",
   "execution_count": 2,
   "metadata": {
    "nbgrader": {
     "grade": false,
     "grade_id": "cell-ffb10fbc071fc814",
     "locked": true,
     "schema_version": 3,
     "solution": false,
     "task": false
    }
   },
   "outputs": [],
   "source": [
    "%matplotlib inline\n",
    "import numpy as np\n",
    "import matplotlib.pyplot as plt"
   ]
  },
  {
   "cell_type": "markdown",
   "metadata": {},
   "source": [
    "## Exercise 1\n",
    "\n",
    "a) The likelihood for the set of samples ${X_1,...,X_n}$ is given by:\n",
    "\n",
    "$$\\Pi_{i=1}^N p(X_i|\\theta); \\quad p(X_i|\\theta) = \\begin{cases}\n",
    "\\frac{1}{\\theta} & \\text{if  }  0<x_i<\\theta\\\\\n",
    "0 & otherwise\n",
    "\\end{cases}$$\n",
    "\n",
    "This product obviously goes to 0 if $\\theta$ is chosen smaller than $max_{i\\in[n]} X_i$. If it is chosen greater than $max_{i\\in[n]} X_i$, the fraction $\\frac{1}{\\theta}$ becomes smaller. The ML solution is, therefore $\\theta = max_{i\\in[n]} X_i$."
   ]
  },
  {
   "cell_type": "markdown",
   "metadata": {},
   "source": [
    "### b)"
   ]
  },
  {
   "cell_type": "code",
   "execution_count": 4,
   "metadata": {},
   "outputs": [
    {
     "data": {
      "text/plain": [
       "(array([2.000e+00, 0.000e+00, 2.000e+00, 0.000e+00, 0.000e+00, 0.000e+00,\n",
       "        0.000e+00, 0.000e+00, 0.000e+00, 0.000e+00, 0.000e+00, 0.000e+00,\n",
       "        0.000e+00, 0.000e+00, 0.000e+00, 0.000e+00, 0.000e+00, 0.000e+00,\n",
       "        1.800e+01, 0.000e+00, 0.000e+00, 0.000e+00, 0.000e+00, 0.000e+00,\n",
       "        0.000e+00, 0.000e+00, 0.000e+00, 0.000e+00, 0.000e+00, 0.000e+00,\n",
       "        0.000e+00, 0.000e+00, 0.000e+00, 0.000e+00, 0.000e+00, 0.000e+00,\n",
       "        0.000e+00, 0.000e+00, 0.000e+00, 0.000e+00, 0.000e+00, 0.000e+00,\n",
       "        4.600e+01, 0.000e+00, 0.000e+00, 0.000e+00, 0.000e+00, 0.000e+00,\n",
       "        0.000e+00, 0.000e+00, 0.000e+00, 0.000e+00, 0.000e+00, 5.320e+02,\n",
       "        0.000e+00, 0.000e+00, 0.000e+00, 1.143e+03, 0.000e+00, 3.257e+03]),\n",
       " array([0.80300393, 0.80612758, 0.80925122, 0.81237486, 0.81549851,\n",
       "        0.81862215, 0.8217458 , 0.82486944, 0.82799309, 0.83111673,\n",
       "        0.83424038, 0.83736402, 0.84048767, 0.84361131, 0.84673495,\n",
       "        0.8498586 , 0.85298224, 0.85610589, 0.85922953, 0.86235318,\n",
       "        0.86547682, 0.86860047, 0.87172411, 0.87484775, 0.8779714 ,\n",
       "        0.88109504, 0.88421869, 0.88734233, 0.89046598, 0.89358962,\n",
       "        0.89671327, 0.89983691, 0.90296056, 0.9060842 , 0.90920784,\n",
       "        0.91233149, 0.91545513, 0.91857878, 0.92170242, 0.92482607,\n",
       "        0.92794971, 0.93107336, 0.934197  , 0.93732064, 0.94044429,\n",
       "        0.94356793, 0.94669158, 0.94981522, 0.95293887, 0.95606251,\n",
       "        0.95918616, 0.9623098 , 0.96543345, 0.96855709, 0.97168073,\n",
       "        0.97480438, 0.97792802, 0.98105167, 0.98417531, 0.98729896,\n",
       "        0.9904226 ]),\n",
       " <BarContainer object of 60 artists>)"
      ]
     },
     "execution_count": 4,
     "metadata": {},
     "output_type": "execute_result"
    },
    {
     "data": {
      "image/png": "[encoded data removed]",
      "text/plain": [
       "<Figure size 432x288 with 1 Axes>"
      ]
     },
     "metadata": {
      "needs_background": "light"
     },
     "output_type": "display_data"
    }
   ],
   "source": [
    "B=5000\n",
    "n=25\n",
    "\n",
    "# data points\n",
    "X=np.random.rand(n)\n",
    "\n",
    "# array holding the bootstrap estimates of theta\n",
    "theta_nonparam_boot = np.zeros(B)\n",
    "\n",
    "for i in range(B):\n",
    "    bootstrap_samp = np.random.choice(X, size=len(X), replace=True)\n",
    "    theta_nonparam_boot[i] = bootstrap_samp.max()\n",
    "\n",
    "plt.hist(theta_nonparam_boot, bins=60)"
   ]
  },
  {
   "cell_type": "markdown",
   "metadata": {},
   "source": [
    "**(c)** In the present case, where we estimate the maximum of a sample, the bootstrap samples $X^*_1,...,X^*_i,...,X^*_n$ provide a lower bound of the maximum of the original samples $X_1,...,X_i,...,X_n$, i.e., $\\hat{\\theta}_n \\geq \\hat{\\theta}^*_{n,i} \\quad \\forall i$. If we assume that all values in $X_1,...,X_i,...,X_n$ are unique, i.e., there is only one maximal value, the probability for each bootstrap sample $P(X^*_i < max_{i\\in[n]} X_i) = 1-\\frac{1}{n}$. For all n bootstrap samples combined, the probability that the maximal value of the original sample is *not* in the bootstrap sample can be calculated by multiplying the single samples' probabilities:\n",
    "\n",
    "$P(max_{i\\in[n]} X^*_i < max_{i\\in[n]} X_i) = \\Pi_{i=1}^n P(X^*_i < max_{i\\in[n]} X_i) = (1-\\frac{1}{n})^n$\n",
    "\n",
    "$\\implies P(T_n^* \\leq 0) \\equiv  P(\\hat{\\theta}_n \\leq \\hat{\\theta}^*_n) = 1-P(max_{i\\in[n]} X^*_i < max_{i\\in[n]} X_i) = 1-(1-\\frac{1}{n})^n$\n",
    "\n",
    "\n",
    "**(d)** with the hint, the problem can be rewritten as:\n",
    "\n",
    "$ \\lim_{n \\to \\infty} \\sup_{t \\in \\mathbb{R}} |P(T_n \\leq t) - P(T_n^* \\leq t)| \\geq P(T_n^* \\leq 0)$ . Since, in the present case, $T_n^*$ cannot be smaller than 0, as argued above, $P(T_n^* \\leq 0) = P(T_n^* = 0)$, i.e., the probability that the bootstrap parameter is an unbiased estimator of the original sample parameter.\n",
    "\n",
    "...\n",
    "\n",
    "\n"
   ]
  },
  {
   "cell_type": "code",
   "execution_count": 16,
   "metadata": {
    "nbgrader": {
     "grade": false,
     "grade_id": "cell-d7f42dc9f275b7b3",
     "locked": true,
     "schema_version": 3,
     "solution": false,
     "task": false
    }
   },
   "outputs": [
    {
     "data": {
      "text/plain": [
       "<matplotlib.legend.Legend at 0x7fe613f47fa0>"
      ]
     },
     "execution_count": 16,
     "metadata": {},
     "output_type": "execute_result"
    },
    {
     "data": {
      "image/png": "[encoded data removed]",
      "text/plain": [
       "<Figure size 432x288 with 1 Axes>"
      ]
     },
     "metadata": {
      "needs_background": "light"
     },
     "output_type": "display_data"
    }
   ],
   "source": [
    "#(e)\n",
    "n_realizations = 500\n",
    "B=200\n",
    "n=25\n",
    "theta=1\n",
    "Tn = np.zeros(n_realizations)\n",
    "Tn_nb, Tn_pb = [np.zeros((n_realizations,B)) for _ in range(2)]\n",
    "\n",
    "# compute T_n, T_n^* and T_n^~ for param. as well as nonparam. bootstrap\n",
    "\n",
    "\n",
    "for r in range(n_realizations):\n",
    "    X=theta * np.random.rand(n)\n",
    "    theta_hat_n = X.max()\n",
    "    Tn[r] = n*(theta-theta_hat_n)\n",
    "    for boot_idx in range(B):\n",
    "        bootstrap_samp_nonparametric = np.random.choice(X,size=n,replace=True)\n",
    "        theta_star_n = bootstrap_samp_nonparametric.max()\n",
    "        Tn_nb[r,boot_idx] = n*(theta_hat_n-theta_star_n)\n",
    "        bootstrap_samp_parametric = np.random.rand(n)*theta_hat_n\n",
    "        theta_tilde_n = bootstrap_samp_parametric.max()\n",
    "        Tn_pb[r,boot_idx] = n*(theta_hat_n - theta_tilde_n)\n",
    "\n",
    "# for each realization compute the empirical cumulative distribution function (ecdf) of T_n across realizations and, for each realization, the ecdf of T_n^* and T_n^~ across bootstrap samples\n",
    "zs = np.linspace(0,1,100)\n",
    "Fn = np.zeros_like(zs)\n",
    "Fn_nb, Fn_pb = [np.zeros((zs.shape[0],n_realizations)) for _ in range(2)]\n",
    "\n",
    "for i,z in enumerate(zs):\n",
    "    Fn[i] = np.mean(Tn <= z)\n",
    "    for r in range(n_realizations):\n",
    "        Fn_nb[i,r] = np.mean(Tn_nb[r,:] <= z)\n",
    "        Fn_pb[i,r] = np.mean(Tn_pb[r,:] <= z)\n",
    "\n",
    "# plot the empirical distribution functions with uncertainty bands across realizations\n",
    "plt.plot(zs, Fn, label = 'Fn')\n",
    "plt.plot(zs, [Fn_nb[iz,:].mean() for iz in range(zs.shape[0])], label = 'nonparam')\n",
    "plt.fill_between(zs, [Fn_nb[iz,:].mean()-Fn_nb[iz,:].std() for iz in range(zs.shape[0])],[Fn_nb[iz,:].mean()+Fn_nb[iz,:].std() for iz in range(zs.shape[0])], alpha = 0.4, color = 'tab:orange')\n",
    "plt.plot(zs, [Fn_pb[iz,:].mean() for iz in range(zs.shape[0])], label = 'param')\n",
    "plt.fill_between(zs, [Fn_pb[iz,:].mean()-Fn_pb[iz,:].std() for iz in range(zs.shape[0])],[Fn_pb[iz,:].mean()+Fn_pb[iz,:].std() for iz in range(zs.shape[0])], alpha = 0.4, color = 'tab:green')\n",
    "plt.scatter(0,1-np.exp(-1),color='tab:orange')\n",
    "plt.legend()"
   ]
  },
  {
   "cell_type": "markdown",
   "metadata": {},
   "source": [
    "## Exercise 2\n",
    "\n"
   ]
  },
  {
   "cell_type": "markdown",
   "metadata": {
    "nbgrader": {
     "grade": false,
     "grade_id": "cell-65c9e677a5c1d059",
     "locked": true,
     "schema_version": 3,
     "solution": false,
     "task": false
    }
   },
   "source": [
    "## Exercise 3\n"
   ]
  },
  {
   "cell_type": "code",
   "execution_count": 18,
   "metadata": {},
   "outputs": [],
   "source": [
    "with open('rfdata_train.npy', 'rb') as f:\n",
    "    X_train = np.load(f)\n",
    "    y_train = np.load(f)\n",
    "\n",
    "with open('rfdata_test.npy', 'rb') as f:\n",
    "    X_test = np.load(f)\n",
    "    y_test = np.load(f)"
   ]
  },
  {
   "cell_type": "markdown",
   "metadata": {},
   "source": [
    "### a)"
   ]
  },
  {
   "cell_type": "code",
   "execution_count": 23,
   "metadata": {},
   "outputs": [
    {
     "data": {
      "text/plain": [
       "Text(0.5, 1.0, 'test scores')"
      ]
     },
     "execution_count": 23,
     "metadata": {},
     "output_type": "execute_result"
    },
    {
     "data": {
      "image/png": "[encoded data removed]",
      "text/plain": [
       "<Figure size 432x288 with 4 Axes>"
      ]
     },
     "metadata": {
      "needs_background": "light"
     },
     "output_type": "display_data"
    }
   ],
   "source": [
    "from sklearn.ensemble import RandomForestRegressor\n",
    "\n",
    "n_trees = [1,10,100,1000]\n",
    "n_inleaf = [1,5,10]\n",
    "\n",
    "train_scores, test_scores = [np.zeros((len(n_trees),len(n_inleaf))) for _ in range(2)]\n",
    "\n",
    "# save scores to index [i_tree, i_inleaf] and make a heatmap\n",
    "for i_tree, n_tree in enumerate(n_trees):\n",
    "    for i_inleaf, n_inl in enumerate(n_inleaf):\n",
    "        clf = RandomForestRegressor(n_estimators=n_tree,min_samples_leaf=n_inl).fit(X_train,y_train)\n",
    "        train_scores[i_tree,i_inleaf] = clf.score(X_train,y_train)\n",
    "        test_scores[i_tree,i_inleaf] = clf.score(X_test,y_test)\n",
    "\n",
    "\n",
    "fig,ax = plt.subplots(1,2)\n",
    "im1=ax[0].imshow(train_scores,aspect='auto')\n",
    "plt.colorbar(im1,ax=ax[0])\n",
    "ax[0].set_xlabel('in-leaf sample size')\n",
    "ax[0].set_ylabel('# trees')\n",
    "ax[0].set_title('training scores')\n",
    "im2=ax[1].imshow(test_scores,aspect='auto')\n",
    "plt.colorbar(im2,ax=ax[1])\n",
    "ax[1].set_xlabel('in-leaf sample size')\n",
    "ax[1].set_ylabel('# trees')\n",
    "ax[1].set_title('test scores')\n"
   ]
  },
  {
   "cell_type": "markdown",
   "metadata": {},
   "source": [
    "### Conclusions:\n",
    "\n",
    "For training scores, the in-leaf sample size seems to be more important than the number of trees, while for test scores, both seem to be important. For a single tree, the train scores decrease with in-leafe sample size, while the opposite is true for the test scores."
   ]
  },
  {
   "cell_type": "markdown",
   "metadata": {},
   "source": [
    "### b)"
   ]
  },
  {
   "cell_type": "code",
   "execution_count": 35,
   "metadata": {},
   "outputs": [
    {
     "name": "stdout",
     "output_type": "stream",
     "text": [
      "1 features out of 50\n",
      "2 samples out of 750\n",
      "1 features out of 50\n",
      "102 samples out of 750\n",
      "1 features out of 50\n",
      "202 samples out of 750\n",
      "1 features out of 50\n",
      "302 samples out of 750\n",
      "1 features out of 50\n",
      "402 samples out of 750\n",
      "1 features out of 50\n",
      "502 samples out of 750\n",
      "1 features out of 50\n",
      "602 samples out of 750\n",
      "1 features out of 50\n",
      "702 samples out of 750\n",
      "11 features out of 50\n",
      "2 samples out of 750\n",
      "11 features out of 50\n",
      "102 samples out of 750\n",
      "11 features out of 50\n",
      "202 samples out of 750\n",
      "11 features out of 50\n",
      "302 samples out of 750\n",
      "11 features out of 50\n",
      "402 samples out of 750\n",
      "11 features out of 50\n",
      "502 samples out of 750\n",
      "11 features out of 50\n",
      "602 samples out of 750\n",
      "11 features out of 50\n",
      "702 samples out of 750\n",
      "21 features out of 50\n",
      "2 samples out of 750\n",
      "21 features out of 50\n",
      "102 samples out of 750\n",
      "21 features out of 50\n",
      "202 samples out of 750\n",
      "21 features out of 50\n",
      "302 samples out of 750\n",
      "21 features out of 50\n",
      "402 samples out of 750\n",
      "21 features out of 50\n",
      "502 samples out of 750\n",
      "21 features out of 50\n",
      "602 samples out of 750\n",
      "21 features out of 50\n",
      "702 samples out of 750\n",
      "31 features out of 50\n",
      "2 samples out of 750\n",
      "31 features out of 50\n",
      "102 samples out of 750\n",
      "31 features out of 50\n",
      "202 samples out of 750\n",
      "31 features out of 50\n",
      "302 samples out of 750\n",
      "31 features out of 50\n",
      "402 samples out of 750\n",
      "31 features out of 50\n",
      "502 samples out of 750\n",
      "31 features out of 50\n",
      "602 samples out of 750\n",
      "31 features out of 50\n",
      "702 samples out of 750\n",
      "41 features out of 50\n",
      "2 samples out of 750\n",
      "41 features out of 50\n",
      "102 samples out of 750\n",
      "41 features out of 50\n",
      "202 samples out of 750\n",
      "41 features out of 50\n",
      "302 samples out of 750\n",
      "41 features out of 50\n",
      "402 samples out of 750\n",
      "41 features out of 50\n",
      "502 samples out of 750\n",
      "41 features out of 50\n",
      "602 samples out of 750\n",
      "41 features out of 50\n",
      "702 samples out of 750\n"
     ]
    },
    {
     "data": {
      "text/plain": [
       "Text(0.5, 1.0, 'test scores')"
      ]
     },
     "execution_count": 35,
     "metadata": {},
     "output_type": "execute_result"
    },
    {
     "data": {
      "image/png": "[encoded data removed]",
      "text/plain": [
       "<Figure size 432x288 with 4 Axes>"
      ]
     },
     "metadata": {
      "needs_background": "light"
     },
     "output_type": "display_data"
    }
   ],
   "source": [
    "n_train, n_feat = X_train.shape\n",
    "\n",
    "# make heatmaps of train and test score for various choices of number of features per split and number of samples per bootstrap sample\n",
    "\n",
    "train_iter = np.arange(2,n_train,100)\n",
    "feat_iter = np.arange(1,n_feat,10)\n",
    "train_scores, test_scores = [np.zeros((len(feat_iter),len(train_iter))) for _ in range(2)]\n",
    "\n",
    "# save scores to index [i_tree, i_inleaf] and make a heatmap\n",
    "for i_ft,n_ft in enumerate(feat_iter):\n",
    "    for i_samp,n_samp in enumerate(train_iter):\n",
    "        print(f'{n_ft} features out of {n_feat}\\n{n_samp} samples out of {n_train}')\n",
    "        clf = RandomForestRegressor(n_estimators=1000,min_samples_leaf=1, min_samples_split= n_samp, max_features = n_ft).fit(X_train,y_train)\n",
    "        train_scores[i_ft,i_samp] = clf.score(X_train,y_train)\n",
    "        test_scores[i_ft,i_samp] = clf.score(X_test,y_test)\n",
    "\n",
    "\n",
    "fig,ax = plt.subplots(1,2)\n",
    "im1=ax[0].imshow(train_scores,aspect='auto')\n",
    "plt.colorbar(im1,ax=ax[0])\n",
    "ax[0].set_xlabel('# features')\n",
    "ax[0].set_ylabel('# samples')\n",
    "ax[0].set_title('training scores')\n",
    "im2=ax[1].imshow(test_scores,aspect='auto')\n",
    "plt.colorbar(im2,ax=ax[1])\n",
    "ax[1].set_xlabel('# features')\n",
    "ax[1].set_ylabel('# samples')\n",
    "ax[1].set_title('test scores')"
   ]
  },
  {
   "cell_type": "markdown",
   "metadata": {},
   "source": [
    "### Conclusions:\n",
    "\n",
    "The score seems to mainly depend on the number of features, but it seems do decrease with more features (counter-intuitive)."
   ]
  },
  {
   "cell_type": "code",
   "execution_count": 41,
   "metadata": {},
   "outputs": [
    {
     "data": {
      "text/plain": [
       "True"
      ]
     },
     "execution_count": 41,
     "metadata": {},
     "output_type": "execute_result"
    }
   ],
   "source": [
    "inform_features = np.array([ 2,  9, 14, 19, 20, 25, 27, 29, 42, 45, 46, 47])\n",
    "\n",
    "# find 12 features that are important for the random forest\n",
    "feat_imp = RandomForestRegressor().fit(X_train,y_train).feature_importances_\n",
    "rf_features = np.argsort(feat_imp)[-12:]\n",
    "\n",
    "len(np.intersect1d(inform_features, rf_features)) == 12"
   ]
  },
  {
   "cell_type": "markdown",
   "metadata": {},
   "source": [
    "### What did you do?\n",
    "\n",
    "Sort features by importance, keep the 12 most important ones\n",
    "\n",
    "### What could you do instead?\n",
    "\n",
    "especially if number of important features is not known a priori: look for an 'elbow' in the feature importance plot. Or (computationally expensive): Combine all possible numbers and combinations of features and search for best training or test accuracy."
   ]
  }
 ],
 "metadata": {
  "celltoolbar": "Create Assignment",
  "interpreter": {
   "hash": "c8de50c09079c2205839ee23bf826c226be6807115ed0be9e6dc25dbf1d3eba9"
  },
  "kernelspec": {
   "display_name": "Python 3.9.7 ('base')",
   "language": "python",
   "name": "python3"
  },
  "language_info": {
   "codemirror_mode": {
    "name": "ipython",
    "version": 3
   },
   "file_extension": ".py",
   "mimetype": "text/x-python",
   "name": "python",
   "nbconvert_exporter": "python",
   "pygments_lexer": "ipython3",
   "version": "3.9.7"
  }
 },
 "nbformat": 4,
 "nbformat_minor": 4
}
