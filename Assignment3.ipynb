{
 "cells": [
  {
   "cell_type": "markdown",
   "metadata": {
    "nbgrader": {
     "grade": false,
     "grade_id": "cell-8c56107b6bb639ce",
     "locked": true,
     "schema_version": 3,
     "solution": false,
     "task": false
    }
   },
   "source": [
    "# Assignment 3\n",
    "## Due May 9th  at 12:00\n",
    "\n",
    "Please do not change any provided variable name. Read carefully the instructions in the exercise PDF and in this notebook. Add your solutions at `YOUR CODE HERE` and remove the corresponding `raise NotImplementedError()`.\n",
    "Before submitting: Please make sure, that your notebook can be executed from top to bottom without an error (Menu -> Kernel -> Restart & Run all). "
   ]
  },
  {
   "cell_type": "markdown",
   "metadata": {},
   "source": [
    "## Ecercise 1\n",
    "(a) $\\frac{\\partial f}{\\partial X} = \\begin{bmatrix}\n",
    "                                  \\frac{\\partial f}{\\partial X_1}\\\\\n",
    "                                  \\frac{\\partial f}{\\partial X_2}\\\\\n",
    "                                  \\frac{\\partial f}{\\partial X_3}  \n",
    "                                    \\end{bmatrix} = \\begin{bmatrix}\n",
    "                                                  2\\\\\n",
    "                                                  -1\\\\\n",
    "                                                  5  \n",
    "                                                    \\end{bmatrix} = a$\n",
    "\n",
    "\n",
    "(b) $\\frac{\\partial f}{\\partial X} = \\begin{bmatrix}\n",
    "                                  \\frac{\\partial f_1}{\\partial X_1} & \\frac{\\partial f_1}{\\partial X_2}\\\\\n",
    "                                  \\frac{\\partial f_2}{\\partial X_1} & \\frac{\\partial f_2}{\\partial X_2} \n",
    "                                    \\end{bmatrix} = \\begin{bmatrix}\n",
    "                                                  2 x_1 + 2 x_2 & 2 x_1\\\\\n",
    "                                                  5 x_2 & 5 x_1 + 6 x_2\n",
    "                                                    \\end{bmatrix}$\n",
    "\n",
    "(c) The objective function in least-squares optimization is quadratic, and quadratic functions are defined over a convex domain.\n",
    "\n",
    "(d) The optimization problem (1) has no constraints. It is an unconstrained optimization problem.\n",
    "\n",
    "(e) As a quadratic function, it can be differentiated arbitrarily many times, even though the second derivative is constant and all higher derivatives are zero.\n",
    "\n",
    "(f) $X^T X$ is positive semidefinite iff $v^T X^T X v \\geq 0 \\quad \\forall v \\in \\mathbb{R}^d$, where d is the number of columns in X. This can be shown by reformulating the equivalence of the multiplication with the quadratic norm: $v^T X^T X v = ||X v||_2^2 \\geq 0 \\quad \\forall v \\in \\mathbb{R}^d$.\n",
    "\n",
    "(g) ...\n",
    "\n",
    "## Exercise 2\n",
    "(a) Since $X^T X$ has rank $2 < d$, it is not invertible and the solution $w$ is given by the generalized inverse: $\\hat{w} = (X^T X)^+ (X^T y) = (1.66, 1.33, 0.33)^T$ as well as $w+v \\quad \\forall v: Xv = 0$ **find v vectors!**\n",
    "(b) ...\n"
   ]
  },
  {
   "cell_type": "code",
   "execution_count": 1,
   "metadata": {
    "nbgrader": {
     "grade": false,
     "grade_id": "cell-9efc83fbde49bb54",
     "locked": true,
     "schema_version": 3,
     "solution": false,
     "task": false
    },
    "pycharm": {
     "is_executing": false
    }
   },
   "outputs": [],
   "source": [
    "%matplotlib inline\n",
    "import matplotlib.pyplot as plt\n",
    "import numpy as np\n",
    "import pandas as pd\n",
    "from scipy.optimize import minimize"
   ]
  },
  {
   "cell_type": "markdown",
   "metadata": {
    "nbgrader": {
     "grade": false,
     "grade_id": "cell-21e85ba3ffba374e",
     "locked": true,
     "schema_version": 3,
     "solution": false,
     "task": false
    }
   },
   "source": [
    "## Exercise 3"
   ]
  },
  {
   "cell_type": "code",
   "execution_count": 2,
   "metadata": {
    "nbgrader": {
     "grade": false,
     "grade_id": "cell-d9d809a951f31d42",
     "locked": true,
     "schema_version": 3,
     "solution": false,
     "task": false
    },
    "pycharm": {
     "is_executing": false
    }
   },
   "outputs": [],
   "source": [
    "def get_data(n, seed=42):\n",
    "    np.random.seed(seed)\n",
    "    \n",
    "    X = np.random.uniform(low=0, high=2, size=(n, 1))\n",
    "    epsilon = np.random.normal(0, 2, (n, 1))\n",
    "    y = 2 * np.sin(2 * X) + 0.1 * epsilon\n",
    "    \n",
    "    return X, y"
   ]
  },
  {
   "cell_type": "code",
   "execution_count": 3,
   "metadata": {
    "nbgrader": {
     "grade": false,
     "grade_id": "cell-302b72a7fb18c481",
     "locked": true,
     "schema_version": 3,
     "solution": false,
     "task": false
    },
    "pycharm": {
     "is_executing": false
    }
   },
   "outputs": [
    {
     "data": {
      "text/plain": [
       "((100, 1), (100, 1))"
      ]
     },
     "execution_count": 3,
     "metadata": {},
     "output_type": "execute_result"
    }
   ],
   "source": [
    "xs, ys = get_data(100)\n",
    "xs.shape, ys.shape"
   ]
  },
  {
   "cell_type": "markdown",
   "metadata": {
    "nbgrader": {
     "grade": false,
     "grade_id": "cell-d6f48ed1e22f0dbd",
     "locked": true,
     "schema_version": 3,
     "solution": false,
     "task": false
    }
   },
   "source": [
    "### a)"
   ]
  },
  {
   "cell_type": "code",
   "execution_count": 5,
   "metadata": {
    "nbgrader": {
     "grade": false,
     "grade_id": "cell-4808c664341c7d87",
     "locked": false,
     "schema_version": 3,
     "solution": true,
     "task": false
    },
    "pycharm": {
     "is_executing": false
    }
   },
   "outputs": [
    {
     "data": {
      "text/plain": [
       "Text(0, 0.5, 'y')"
      ]
     },
     "execution_count": 5,
     "metadata": {},
     "output_type": "execute_result"
    },
    {
     "data": {
      "image/png": "[encoded data removed]",
      "text/plain": [
       "<Figure size 432x288 with 1 Axes>"
      ]
     },
     "metadata": {
      "needs_background": "light"
     },
     "output_type": "display_data"
    }
   ],
   "source": [
    "# Create a new figure with new default axis\n",
    "fig, axis = plt.subplots(1, 1)\n",
    "\n",
    "# Plot here in axis\n",
    "axis.scatter(xs,ys)\n",
    "axis.set_xlabel(\"x\")\n",
    "axis.set_ylabel(\"y\")"
   ]
  },
  {
   "cell_type": "markdown",
   "metadata": {
    "nbgrader": {
     "grade": false,
     "grade_id": "cell-89ac1b782af1a71b",
     "locked": true,
     "schema_version": 3,
     "solution": false,
     "task": false
    }
   },
   "source": [
    "### b)"
   ]
  },
  {
   "cell_type": "code",
   "execution_count": 32,
   "metadata": {
    "nbgrader": {
     "grade": false,
     "grade_id": "cell-c8b1148e805d423e",
     "locked": false,
     "schema_version": 3,
     "solution": true,
     "task": false
    },
    "pycharm": {
     "is_executing": false
    }
   },
   "outputs": [],
   "source": [
    "def ridge_regression(xs, ys, lam=1):\n",
    "    n = len(ys)\n",
    "    d = xs. shape[1]\n",
    "    w = np.linalg.inv(xs.T @ xs + n*lam*np.eye(d)) @ xs.T @ ys\n",
    "    return w\n",
    "\n",
    "\n",
    "def lasso_regression(xs, ys, lam=1):\n",
    "    \n",
    "    objective = lambda w: (1/len(ys)) * np.linalg.norm(ys - xs@w, 2) + lam*np.linalg.norm(w,1)\n",
    "        \n",
    "    w = minimize(objective, x0 = np.random.rand(xs.shape[1]))\n",
    "    w = w.x\n",
    "    return w\n",
    "\n"
   ]
  },
  {
   "cell_type": "markdown",
   "metadata": {
    "nbgrader": {
     "grade": false,
     "grade_id": "cell-2fbaf12b6a2760a0",
     "locked": true,
     "schema_version": 3,
     "solution": false,
     "task": false
    }
   },
   "source": [
    "### c)"
   ]
  },
  {
   "cell_type": "markdown",
   "metadata": {
    "nbgrader": {
     "grade": false,
     "grade_id": "cell-88dd1470540f4275",
     "locked": true,
     "schema_version": 3,
     "solution": false,
     "task": false
    }
   },
   "source": [
    "$\\lambda = \\{0.1, 1, 10\\}$\n",
    "\n",
    "Ridge Regression:"
   ]
  },
  {
   "cell_type": "code",
   "execution_count": 12,
   "metadata": {
    "nbgrader": {
     "grade": false,
     "grade_id": "cell-d269f0b6f17bdf26",
     "locked": false,
     "schema_version": 3,
     "solution": true,
     "task": false
    },
    "pycharm": {
     "is_executing": false
    }
   },
   "outputs": [
    {
     "name": "stdout",
     "output_type": "stream",
     "text": [
      "[12.310054831360578, 12.42944817421166, 12.785781568283044]\n"
     ]
    }
   ],
   "source": [
    "lambdas = [0.1, 1, 10]\n",
    "mse_per_lambda = [None, None, None]\n",
    "ys_pred_per_lambda = [None, None, None]\n",
    "\n",
    "for i, lam in enumerate(lambdas):\n",
    "    # ridge regession\n",
    "    w = ridge_regression(xs,ys,lam)\n",
    "    ys_pred = xs@w\n",
    "    ys_pred_per_lambda[i] = ys_pred\n",
    "    mse = np.linalg.norm(ys-ys_pred,2)\n",
    "    mse_per_lambda[i] = mse\n",
    "    \n",
    "print(mse_per_lambda)"
   ]
  },
  {
   "cell_type": "code",
   "execution_count": 14,
   "metadata": {
    "nbgrader": {
     "grade": false,
     "grade_id": "cell-2e1f3e0a308d82ad",
     "locked": false,
     "schema_version": 3,
     "solution": true,
     "task": false
    },
    "pycharm": {
     "is_executing": false
    }
   },
   "outputs": [
    {
     "data": {
      "image/png": "[encoded data removed]",
      "text/plain": [
       "<Figure size 432x288 with 3 Axes>"
      ]
     },
     "metadata": {
      "needs_background": "light"
     },
     "output_type": "display_data"
    }
   ],
   "source": [
    "fig, axis = plt.subplots(1, 3)\n",
    "\n",
    "for ax, ys_pred in zip(axis, ys_pred_per_lambda):\n",
    "    plt.sca(ax)  # enable axis\n",
    "    \n",
    "    # First plot scatters, then the regression line\n",
    "    ax.scatter(xs,ys)\n",
    "    ax.plot(xs, ys_pred)\n",
    "    ax.set_xlabel(\"x\")\n",
    "    ax.set_ylabel(\"y\")"
   ]
  },
  {
   "cell_type": "markdown",
   "metadata": {
    "nbgrader": {
     "grade": false,
     "grade_id": "cell-c65562f8c21a19df",
     "locked": true,
     "schema_version": 3,
     "solution": false,
     "task": false
    }
   },
   "source": [
    "Lasso Regression:"
   ]
  },
  {
   "cell_type": "code",
   "execution_count": 31,
   "metadata": {
    "nbgrader": {
     "grade": false,
     "grade_id": "cell-eef870e963f8c8c1",
     "locked": false,
     "schema_version": 3,
     "solution": true,
     "task": false
    }
   },
   "outputs": [
    {
     "name": "stdout",
     "output_type": "stream",
     "text": [
      "[99.56601222987375, 129.08478397972723, 129.08478425588692]\n"
     ]
    },
    {
     "data": {
      "image/png": "[encoded data removed]",
      "text/plain": [
       "<Figure size 432x288 with 3 Axes>"
      ]
     },
     "metadata": {
      "needs_background": "light"
     },
     "output_type": "display_data"
    }
   ],
   "source": [
    "mse_per_lambda = [None, None, None]\n",
    "ys_pred_per_lambda = [None, None, None]\n",
    "\n",
    "for i, lam in enumerate(lambdas):\n",
    "    # lasso regession\n",
    "    w = lasso_regression(xs,ys,lam)\n",
    "    ys_pred = xs@w\n",
    "    ys_pred_per_lambda[i] = ys_pred\n",
    "    mse = np.linalg.norm(ys-ys_pred,2)\n",
    "    mse_per_lambda[i] = mse\n",
    "\n",
    "    \n",
    "print(mse_per_lambda)\n",
    "\n",
    "\n",
    "fig, axis = plt.subplots(1, 3)\n",
    "\n",
    "for ax, ys_pred in zip(axis, ys_pred_per_lambda):\n",
    "    plt.sca(ax)  # enable axis\n",
    "    \n",
    "    # First plot scatters, then the regression line\n",
    "    ax.scatter(xs,ys)\n",
    "    ax.plot(xs, ys_pred)\n",
    "    ax.set_xlabel(\"x\")\n",
    "    ax.set_ylabel(\"y\")"
   ]
  },
  {
   "cell_type": "markdown",
   "metadata": {
    "nbgrader": {
     "grade": false,
     "grade_id": "cell-d7d919f03e8b7586",
     "locked": true,
     "schema_version": 3,
     "solution": false,
     "task": false
    }
   },
   "source": [
    "### d)"
   ]
  },
  {
   "cell_type": "code",
   "execution_count": 43,
   "metadata": {
    "nbgrader": {
     "grade": false,
     "grade_id": "cell-6071e48e7e1516c5",
     "locked": false,
     "schema_version": 3,
     "solution": true,
     "task": false
    }
   },
   "outputs": [
    {
     "data": {
      "text/plain": [
       "Text(0, 0.5, '|weight| of quadratic term')"
      ]
     },
     "execution_count": 43,
     "metadata": {},
     "output_type": "execute_result"
    },
    {
     "data": {
      "image/png": "[encoded data removed]",
      "text/plain": [
       "<Figure size 432x288 with 1 Axes>"
      ]
     },
     "metadata": {
      "needs_background": "light"
     },
     "output_type": "display_data"
    }
   ],
   "source": [
    "datasets  = [(np.c_[xs, xs**2], ys) for xs, ys in\n",
    "            (get_data(100, seed=seed) for seed in range(0, 100, 2))]\n",
    "\n",
    "ws_linear = np.array([ridge_regression(xs,ys, lam=0) for xs,ys in datasets]).squeeze()\n",
    "ws_lasso  = np.array([lasso_regression(xs,ys,lam=1) for xs,ys in datasets]).squeeze()\n",
    "ws_ridge  = np.array([ridge_regression(xs,ys, lam=1) for xs,ys in datasets]).squeeze()\n",
    "     \n",
    "\n",
    "fig, axis = plt.subplots(1, 1)\n",
    "# Scatter plot the absolute weight values\n",
    "# use logarithmic axis scales and \n",
    "# set appropriate axis limits\n",
    "axis.scatter(np.abs(ws_linear[:,0]),np.abs(ws_linear[:,1]),c=\"k\", label=\"linear\")\n",
    "axis.scatter(np.abs(ws_lasso[:,0]),np.abs(ws_linear[:,1]),c=\"b\", label=\"lasso\")\n",
    "axis.scatter(np.abs(ws_ridge[:,0]),np.abs(ws_linear[:,1]),c=\"r\", label=\"ridge\")\n",
    "axis.legend()\n",
    "axis.set_xscale(\"log\")\n",
    "axis.set_yscale(\"log\")\n",
    "axis.set_xlabel(\"|weight| of linear term\")\n",
    "axis.set_ylabel(\"|weight| of quadratic term\")\n"
   ]
  },
  {
   "cell_type": "markdown",
   "metadata": {
    "nbgrader": {
     "grade": false,
     "grade_id": "cell-49c18466214cea74",
     "locked": true,
     "schema_version": 3,
     "solution": false,
     "task": false
    }
   },
   "source": [
    "### e)"
   ]
  },
  {
   "cell_type": "markdown",
   "metadata": {
    "nbgrader": {
     "grade": false,
     "grade_id": "cell-b716ce7a1f7268a0",
     "locked": true,
     "schema_version": 3,
     "solution": false,
     "task": false
    }
   },
   "source": [
    "Ridge regression"
   ]
  },
  {
   "cell_type": "code",
   "execution_count": 52,
   "metadata": {
    "nbgrader": {
     "grade": false,
     "grade_id": "cell-9a645311132d63c5",
     "locked": false,
     "schema_version": 3,
     "solution": true,
     "task": false
    },
    "pycharm": {
     "is_executing": false
    }
   },
   "outputs": [
    {
     "name": "stdout",
     "output_type": "stream",
     "text": [
      "best lambda: 0.001\n",
      "mse: 2.194056013667452\n"
     ]
    }
   ],
   "source": [
    "Xs = np.concatenate([np.ones((xs.shape[0],1)), xs, xs**2],axis=1)\n",
    "lambdas = [0.001, 0.01, 0.1, 1, 10]\n",
    "mse_per_lambda = [None]*len(lambdas)\n",
    "ys_pred_per_lambda = [None]*len(lambdas)\n",
    "\n",
    "for i, lam in enumerate(lambdas):\n",
    "    # ridge regession\n",
    "    w = ridge_regression(Xs,ys,lam)\n",
    "    ys_pred = Xs@w\n",
    "    ys_pred_per_lambda[i] = ys_pred\n",
    "    mse = np.linalg.norm(ys-ys_pred,2)\n",
    "    mse_per_lambda[i] = mse\n",
    "\n",
    "best_lambda = lambdas[np.argmin(mse_per_lambda)]\n",
    "best_error = np.min(mse_per_lambda)\n",
    "print(f'best lambda: {best_lambda}')\n",
    "print(f'mse: {best_error}')"
   ]
  },
  {
   "cell_type": "code",
   "execution_count": 54,
   "metadata": {},
   "outputs": [
    {
     "data": {
      "text/plain": [
       "Text(0, 0.5, 'MSE')"
      ]
     },
     "execution_count": 54,
     "metadata": {},
     "output_type": "execute_result"
    },
    {
     "data": {
      "image/png": "[encoded data removed]",
      "text/plain": [
       "<Figure size 432x288 with 1 Axes>"
      ]
     },
     "metadata": {
      "needs_background": "light"
     },
     "output_type": "display_data"
    }
   ],
   "source": [
    "fig, axis = plt.subplots(1, 1)\n",
    "\n",
    "# Plot line of mse as a function of lambda\n",
    "\n",
    "\n",
    "#pred = []\n",
    "#for i in lambdas:\n",
    "#    w = ridge_regression(Omega, ys, lam=i)\n",
    "#    ys_pred = Omega @ w\n",
    "#    pred.append(((ys - ys_pred) ** 2).mean())\n",
    "axis.plot(lambdas, mse_per_lambda, marker='x')\n",
    "### END SOLUTION\n",
    "plt.xscale('log')\n",
    "axis.set_xlabel(\"lambda\")\n",
    "axis.set_ylabel(\"MSE\")"
   ]
  },
  {
   "cell_type": "code",
   "execution_count": 65,
   "metadata": {
    "nbgrader": {
     "grade": false,
     "grade_id": "cell-ce629e4ee617f422",
     "locked": false,
     "schema_version": 3,
     "solution": true,
     "task": false
    },
    "pycharm": {
     "is_executing": false
    }
   },
   "outputs": [
    {
     "data": {
      "text/plain": [
       "Text(0, 0.5, 'y')"
      ]
     },
     "execution_count": 65,
     "metadata": {},
     "output_type": "execute_result"
    },
    {
     "data": {
      "image/png": "[encoded data removed]",
      "text/plain": [
       "<Figure size 432x288 with 1 Axes>"
      ]
     },
     "metadata": {
      "needs_background": "light"
     },
     "output_type": "display_data"
    }
   ],
   "source": [
    "#plot best prediction\n",
    "fig, axis = plt.subplots(1, 1)\n",
    "\n",
    "# First plot scatters, then the regression line\n",
    "axis.scatter(xs, ys, label=\"data\")\n",
    "axis.scatter(xs, ys_pred_per_lambda[np.argmin(mse_per_lambda)], label = \"best prediction\")\n",
    "axis.legend()\n",
    "axis.set_xlabel(\"x\")\n",
    "axis.set_ylabel(\"y\")"
   ]
  },
  {
   "cell_type": "markdown",
   "metadata": {
    "nbgrader": {
     "grade": false,
     "grade_id": "cell-d7be20688abaaab9",
     "locked": true,
     "schema_version": 3,
     "solution": false,
     "task": false
    }
   },
   "source": [
    "Linear regresion"
   ]
  },
  {
   "cell_type": "code",
   "execution_count": 70,
   "metadata": {
    "nbgrader": {
     "grade": false,
     "grade_id": "cell-79632bc56a7cd4ad",
     "locked": false,
     "schema_version": 3,
     "solution": true,
     "task": false
    },
    "pycharm": {
     "is_executing": false
    }
   },
   "outputs": [
    {
     "name": "stdout",
     "output_type": "stream",
     "text": [
      "2.1674658747437343\n"
     ]
    }
   ],
   "source": [
    "w = ridge_regression(Xs,ys,0)\n",
    "ys_pred_lin = Xs@w\n",
    "mse = np.linalg.norm(ys-ys_pred,2)\n",
    "\n",
    "print(mse)"
   ]
  },
  {
   "cell_type": "code",
   "execution_count": 71,
   "metadata": {
    "nbgrader": {
     "grade": false,
     "grade_id": "cell-791d039140e03477",
     "locked": false,
     "schema_version": 3,
     "solution": true,
     "task": false
    },
    "pycharm": {
     "is_executing": false
    }
   },
   "outputs": [
    {
     "data": {
      "text/plain": [
       "Text(0, 0.5, 'y')"
      ]
     },
     "execution_count": 71,
     "metadata": {},
     "output_type": "execute_result"
    },
    {
     "data": {
      "image/png": "[encoded data removed]",
      "text/plain": [
       "<Figure size 432x288 with 1 Axes>"
      ]
     },
     "metadata": {
      "needs_background": "light"
     },
     "output_type": "display_data"
    }
   ],
   "source": [
    "fig, axis = plt.subplots(1, 1)\n",
    "\n",
    "# First plot scatters, then the regression line\n",
    "axis.scatter(xs, ys, label=\"data\")\n",
    "axis.scatter(xs, ys_pred_lin, label = \"linear regression prediction\")\n",
    "axis.legend()\n",
    "axis.set_xlabel(\"x\")\n",
    "axis.set_ylabel(\"y\")"
   ]
  }
 ],
 "metadata": {
  "celltoolbar": "Create Assignment",
  "kernelspec": {
   "display_name": "Python 3 (ipykernel)",
   "language": "python",
   "name": "python3"
  },
  "language_info": {
   "codemirror_mode": {
    "name": "ipython",
    "version": 3
   },
   "file_extension": ".py",
   "mimetype": "text/x-python",
   "name": "python",
   "nbconvert_exporter": "python",
   "pygments_lexer": "ipython3",
   "version": "3.9.7"
  }
 },
 "nbformat": 4,
 "nbformat_minor": 4
}
